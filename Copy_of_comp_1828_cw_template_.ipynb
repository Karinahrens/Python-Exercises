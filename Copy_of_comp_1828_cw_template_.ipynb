{
  "nbformat": 4,
  "nbformat_minor": 0,
  "metadata": {
    "colab": {
      "name": "Copy_of_comp_1828_cw_template_.ipynb",
      "provenance": [],
      "collapsed_sections": [
        "Knuz2I1EXT1g",
        "FHQVXql9XvMH"
      ],
      "include_colab_link": true
    },
    "kernelspec": {
      "name": "python3",
      "display_name": "Python 3"
    },
    "language_info": {
      "name": "python"
    }
  },
  "cells": [
    {
      "cell_type": "markdown",
      "metadata": {
        "id": "view-in-github",
        "colab_type": "text"
      },
      "source": [
        "<a href=\"https://colab.research.google.com/github/Karinahrens/Python-Exercises/blob/main/Copy_of_comp_1828_cw_template_.ipynb\" target=\"_parent\"><img src=\"https://colab.research.google.com/assets/colab-badge.svg\" alt=\"Open In Colab\"/></a>"
      ]
    },
    {
      "cell_type": "markdown",
      "metadata": {
        "id": "W6LLL7XIXMwx"
      },
      "source": [
        "# COMP-1828 Coursework code template 2021-22 "
      ]
    },
    {
      "cell_type": "markdown",
      "metadata": {
        "id": "Z0N9Kt2Awm00"
      },
      "source": [
        "## To execute a code cell, please PRESS SHIFT + ENTER.\n",
        "## **To edit the file,** \n",
        " - **Make sure that you are logged in to a Google account.**\n",
        " - **Make a copy of the file by expanding the [File] menu and selecting [Save a copy in Drive],**\n",
        " - **Start editing the code.**\n",
        "\n",
        "## **To submit the code,** \n",
        " - **Download the .ipynb file by expanding the [File] menu and selecting [Download] -> [Download .ipynb],**\n",
        " - **Submit the file on Moodle.**\n",
        "\n",
        "### **You are also required to copy some part of the file and paste it in the MS Word template file following the instruction.**"
      ]
    },
    {
      "cell_type": "markdown",
      "metadata": {
        "id": "Knuz2I1EXT1g"
      },
      "source": [
        "# Creating `numpy` array of the latitude and longitude of 20 cities in the UK."
      ]
    },
    {
      "cell_type": "code",
      "metadata": {
        "id": "Mcq0bss4Lq54"
      },
      "source": [
        "from io import StringIO\n",
        "import numpy as np\n",
        "import pandas as pd\n",
        "latitude_longitude_csv_str =\\\n",
        "\"\"\"\\\n",
        "city,latitude,longitude\n",
        "London,51.5072,-0.1275\n",
        "Birmingham,52.48,-1.9025\n",
        "Manchester,53.4794,-2.2453\n",
        "Leeds,53.7997,-1.5492\n",
        "Newcastle,55.0077,-1.6578\n",
        "Birstall,52.6736,-1.12\n",
        "Glasgow,55.8609,-4.2514\n",
        "Liverpool,53.4,-2.9833\n",
        "Portsmouth,50.8058,-1.0872\n",
        "Southampton,50.9,-1.4\n",
        "Nottingham,52.95,-1.15\n",
        "Bristol,51.45,-2.5833\n",
        "Sheffield,53.3833,-1.4667\n",
        "Kingston upon Hull,53.7444,-0.3325\n",
        "Leicester,52.6333,-1.1333\n",
        "Edinburgh,55.953,-3.189\n",
        "Caerdydd,51.4833,-3.1833\n",
        "Stoke-on-Trent,53,-2.1833\n",
        "Coventry,52.4081,-1.5106\n",
        "Reading,51.4542,-0.9731\\\n",
        "\"\"\"\n",
        "latitude_longitude_pd = pd.read_csv(StringIO(latitude_longitude_csv_str), index_col='city')\n",
        "latitude_longitute_deg = latitude_longitude_pd[['latitude', 'longitude']].to_numpy()\n"
      ],
      "execution_count": null,
      "outputs": []
    },
    {
      "cell_type": "markdown",
      "metadata": {
        "id": "mdtQhKR5xlAA"
      },
      "source": [
        "## Visualize the table."
      ]
    },
    {
      "cell_type": "code",
      "metadata": {
        "id": "bqT6gPq0w5ON",
        "colab": {
          "base_uri": "https://localhost:8080/"
        },
        "outputId": "35af3555-16e8-4c14-ea7f-92a7bfa40eeb"
      },
      "source": [
        "display(latitude_longitude_pd)"
      ],
      "execution_count": null,
      "outputs": [
        {
          "output_type": "display_data",
          "data": {
            "text/html": [
              "<div>\n",
              "<style scoped>\n",
              "    .dataframe tbody tr th:only-of-type {\n",
              "        vertical-align: middle;\n",
              "    }\n",
              "\n",
              "    .dataframe tbody tr th {\n",
              "        vertical-align: top;\n",
              "    }\n",
              "\n",
              "    .dataframe thead th {\n",
              "        text-align: right;\n",
              "    }\n",
              "</style>\n",
              "<table border=\"1\" class=\"dataframe\">\n",
              "  <thead>\n",
              "    <tr style=\"text-align: right;\">\n",
              "      <th></th>\n",
              "      <th>latitude</th>\n",
              "      <th>longitude</th>\n",
              "    </tr>\n",
              "    <tr>\n",
              "      <th>city</th>\n",
              "      <th></th>\n",
              "      <th></th>\n",
              "    </tr>\n",
              "  </thead>\n",
              "  <tbody>\n",
              "    <tr>\n",
              "      <th>London</th>\n",
              "      <td>51.5072</td>\n",
              "      <td>-0.1275</td>\n",
              "    </tr>\n",
              "    <tr>\n",
              "      <th>Birmingham</th>\n",
              "      <td>52.4800</td>\n",
              "      <td>-1.9025</td>\n",
              "    </tr>\n",
              "    <tr>\n",
              "      <th>Manchester</th>\n",
              "      <td>53.4794</td>\n",
              "      <td>-2.2453</td>\n",
              "    </tr>\n",
              "    <tr>\n",
              "      <th>Leeds</th>\n",
              "      <td>53.7997</td>\n",
              "      <td>-1.5492</td>\n",
              "    </tr>\n",
              "    <tr>\n",
              "      <th>Newcastle</th>\n",
              "      <td>55.0077</td>\n",
              "      <td>-1.6578</td>\n",
              "    </tr>\n",
              "    <tr>\n",
              "      <th>Birstall</th>\n",
              "      <td>52.6736</td>\n",
              "      <td>-1.1200</td>\n",
              "    </tr>\n",
              "    <tr>\n",
              "      <th>Glasgow</th>\n",
              "      <td>55.8609</td>\n",
              "      <td>-4.2514</td>\n",
              "    </tr>\n",
              "    <tr>\n",
              "      <th>Liverpool</th>\n",
              "      <td>53.4000</td>\n",
              "      <td>-2.9833</td>\n",
              "    </tr>\n",
              "    <tr>\n",
              "      <th>Portsmouth</th>\n",
              "      <td>50.8058</td>\n",
              "      <td>-1.0872</td>\n",
              "    </tr>\n",
              "    <tr>\n",
              "      <th>Southampton</th>\n",
              "      <td>50.9000</td>\n",
              "      <td>-1.4000</td>\n",
              "    </tr>\n",
              "    <tr>\n",
              "      <th>Nottingham</th>\n",
              "      <td>52.9500</td>\n",
              "      <td>-1.1500</td>\n",
              "    </tr>\n",
              "    <tr>\n",
              "      <th>Bristol</th>\n",
              "      <td>51.4500</td>\n",
              "      <td>-2.5833</td>\n",
              "    </tr>\n",
              "    <tr>\n",
              "      <th>Sheffield</th>\n",
              "      <td>53.3833</td>\n",
              "      <td>-1.4667</td>\n",
              "    </tr>\n",
              "    <tr>\n",
              "      <th>Kingston upon Hull</th>\n",
              "      <td>53.7444</td>\n",
              "      <td>-0.3325</td>\n",
              "    </tr>\n",
              "    <tr>\n",
              "      <th>Leicester</th>\n",
              "      <td>52.6333</td>\n",
              "      <td>-1.1333</td>\n",
              "    </tr>\n",
              "    <tr>\n",
              "      <th>Edinburgh</th>\n",
              "      <td>55.9530</td>\n",
              "      <td>-3.1890</td>\n",
              "    </tr>\n",
              "    <tr>\n",
              "      <th>Caerdydd</th>\n",
              "      <td>51.4833</td>\n",
              "      <td>-3.1833</td>\n",
              "    </tr>\n",
              "    <tr>\n",
              "      <th>Stoke-on-Trent</th>\n",
              "      <td>53.0000</td>\n",
              "      <td>-2.1833</td>\n",
              "    </tr>\n",
              "    <tr>\n",
              "      <th>Coventry</th>\n",
              "      <td>52.4081</td>\n",
              "      <td>-1.5106</td>\n",
              "    </tr>\n",
              "    <tr>\n",
              "      <th>Reading</th>\n",
              "      <td>51.4542</td>\n",
              "      <td>-0.9731</td>\n",
              "    </tr>\n",
              "  </tbody>\n",
              "</table>\n",
              "</div>"
            ],
            "text/plain": [
              "                    latitude  longitude\n",
              "city                                   \n",
              "London               51.5072    -0.1275\n",
              "Birmingham           52.4800    -1.9025\n",
              "Manchester           53.4794    -2.2453\n",
              "Leeds                53.7997    -1.5492\n",
              "Newcastle            55.0077    -1.6578\n",
              "Birstall             52.6736    -1.1200\n",
              "Glasgow              55.8609    -4.2514\n",
              "Liverpool            53.4000    -2.9833\n",
              "Portsmouth           50.8058    -1.0872\n",
              "Southampton          50.9000    -1.4000\n",
              "Nottingham           52.9500    -1.1500\n",
              "Bristol              51.4500    -2.5833\n",
              "Sheffield            53.3833    -1.4667\n",
              "Kingston upon Hull   53.7444    -0.3325\n",
              "Leicester            52.6333    -1.1333\n",
              "Edinburgh            55.9530    -3.1890\n",
              "Caerdydd             51.4833    -3.1833\n",
              "Stoke-on-Trent       53.0000    -2.1833\n",
              "Coventry             52.4081    -1.5106\n",
              "Reading              51.4542    -0.9731"
            ]
          },
          "metadata": {}
        }
      ]
    },
    {
      "cell_type": "markdown",
      "metadata": {
        "id": "9nWm2eR7xqj8"
      },
      "source": [
        "## Show the `numpy` array."
      ]
    },
    {
      "cell_type": "code",
      "metadata": {
        "id": "bKgauLrbxpcl",
        "colab": {
          "base_uri": "https://localhost:8080/"
        },
        "outputId": "97e83cbc-156b-4078-8910-c1805b5d0d2b"
      },
      "source": [
        "display(latitude_longitute_deg)"
      ],
      "execution_count": null,
      "outputs": [
        {
          "output_type": "display_data",
          "data": {
            "text/plain": [
              "array([[51.5072, -0.1275],\n",
              "       [52.48  , -1.9025],\n",
              "       [53.4794, -2.2453],\n",
              "       [53.7997, -1.5492],\n",
              "       [55.0077, -1.6578],\n",
              "       [52.6736, -1.12  ],\n",
              "       [55.8609, -4.2514],\n",
              "       [53.4   , -2.9833],\n",
              "       [50.8058, -1.0872],\n",
              "       [50.9   , -1.4   ],\n",
              "       [52.95  , -1.15  ],\n",
              "       [51.45  , -2.5833],\n",
              "       [53.3833, -1.4667],\n",
              "       [53.7444, -0.3325],\n",
              "       [52.6333, -1.1333],\n",
              "       [55.953 , -3.189 ],\n",
              "       [51.4833, -3.1833],\n",
              "       [53.    , -2.1833],\n",
              "       [52.4081, -1.5106],\n",
              "       [51.4542, -0.9731]])"
            ]
          },
          "metadata": {}
        }
      ]
    },
    {
      "cell_type": "markdown",
      "metadata": {
        "id": "FHQVXql9XvMH"
      },
      "source": [
        "# Defining the `ll_to_distance_matrix` function.\n",
        "- Input: `N x 2` NumPy array, where the `i`-th row is the latitude (degree) and\n",
        "longitude (degree) of the `i`-th city.\n",
        "- Output: `N x N` NumPy array, where the entry in the `i`-th row and the `j`-th\n",
        "column is the distance between the `i`-th and `j`-th cities.\n"
      ]
    },
    {
      "cell_type": "code",
      "metadata": {
        "id": "9J8MobhaFflx"
      },
      "source": [
        "import numpy as np\n",
        "def ll_to_distance_matrix(latitude_longitute_deg):\n",
        "  la_lo_rad = np.pi * latitude_longitute_deg / 180.0\n",
        "  la, lo = la_lo_rad[:, 0], la_lo_rad[:, 1]\n",
        "  earth_radius = 6370.0\n",
        "  distance_matrix = earth_radius * np.arccos(np.sin(la[:, np.newaxis]) * np.sin(la[np.newaxis, :]) + np.cos(la[:, np.newaxis]) * np.cos(la[np.newaxis, :]) * np.cos(lo[:, np.newaxis] - lo[np.newaxis, :]))\n",
        "  return distance_matrix\n"
      ],
      "execution_count": null,
      "outputs": []
    },
    {
      "cell_type": "markdown",
      "metadata": {
        "id": "E06iVs5TYObD"
      },
      "source": [
        "# **Coursework Q1-3 a)**: Implement `tsp_from_ll` **(PLEASE COMPLETE THE IMPLEMENTATION)**. \n",
        "- Please implement the `tsp_from_ll` function in the following cell and **copy the cell and paste it in the form of Q1-3 a) in the MS Word template file.**\n",
        "- Input:\n",
        "  - `N x 2` NumPy array, where the i-th row is the latitude (degree) and\n",
        "longitude (degree) of the i-th city.\n",
        "  - The list of city names. Size `N`.\n",
        "- Output: the tuple consisting of the following two.\n",
        "  - The list of city names in the order of an efficient circuit. Size `N`. London is the zeroth entry and not appended at the end.\n",
        "  - The total length of the circuit.\n",
        "- For the implementation, please use \n",
        "  - `ll_to_distance_matrix`\n",
        "  - `networkx.from_numpy_matrix`,\n",
        "  - `networkx.algorithms.tree.mst.minimum_spanning_tree`,\n",
        "  - `networkx.algorithms.traversal.depth_first_search.dfs_preorder_nodes`.\n"
      ]
    },
    {
      "cell_type": "code",
      "metadata": {
        "id": "cDoipOxrQyMz"
      },
      "source": [
        "from networkx import from_numpy_matrix\n",
        "from networkx.algorithms.tree.mst import minimum_spanning_tree\n",
        "from networkx.algorithms.traversal.depth_first_search import dfs_preorder_nodes\n",
        "from networkx.classes.function import path_weight\n",
        "\n",
        "\n",
        "\n",
        "def tsp_from_ll(latitude_longitute_deg, city_list):\n",
        "  # using function from_numpy_matrix that takes the distance of cities and \n",
        "  # list of cities and create a weighted undirect graph:\n",
        "  matrix = (from_numpy_matrix(ll_to_distance_matrix(latitude_longitute_deg))) \n",
        "  # the tree function apply kruskal algorithm to the graph:\n",
        "  tree = (minimum_spanning_tree(matrix))\n",
        "  # dfs generate nodes in a depth-first-search pre-ordering starting at source 0\n",
        "  dfs = list(dfs_preorder_nodes(tree, source=0)) \n",
        "  # ordered city list parse the order of cities created from dfs function:\n",
        "  ordered_city_list = [city_list[i] for i in dfs]\n",
        "  dfs.append(0) # adding the return to origin London\n",
        "  # this function sum all the cities distance's from dfs function:\n",
        "  total_distance = path_weight(matrix, dfs, weight=\"weight\")\n",
        "\n",
        "  return ordered_city_list, total_distance\n",
        "\n"
      ],
      "execution_count": null,
      "outputs": []
    },
    {
      "cell_type": "markdown",
      "metadata": {
        "id": "lMJDnrT3ymYw"
      },
      "source": [
        "# **Coursework Q1-3 b)**: List the cities in the visiting order of the route.\n",
        "**Copy the output of the following cell and paste it in the form of Q1-3 b) in the MS Word template file.**"
      ]
    },
    {
      "cell_type": "code",
      "metadata": {
        "id": "kwoh49T2yvoM",
        "colab": {
          "base_uri": "https://localhost:8080/"
        },
        "outputId": "3daa4d31-d56e-4d00-b4d4-2fd7988e2e59"
      },
      "source": [
        "ordered_city_list, total_distance = tsp_from_ll(latitude_longitute_deg, list(latitude_longitude_pd.index))\n",
        "print(', '.join(ordered_city_list))"
      ],
      "execution_count": null,
      "outputs": [
        {
          "output_type": "stream",
          "name": "stdout",
          "text": [
            "London, Reading, Southampton, Portsmouth, Bristol, Caerdydd, Coventry, Birmingham, Leicester, Birstall, Nottingham, Sheffield, Leeds, Kingston upon Hull, Newcastle, Edinburgh, Glasgow, Manchester, Liverpool, Stoke-on-Trent\n"
          ]
        }
      ]
    },
    {
      "cell_type": "markdown",
      "metadata": {
        "id": "zscLq2iC09e8"
      },
      "source": [
        "# **Coursework Q1-3 c)**: Show the total length of the route.\n",
        "**Copy the output of the following cell and paste it in the form of Q1-3 c) in the MS Word template file.**"
      ]
    },
    {
      "cell_type": "code",
      "metadata": {
        "id": "Dss2cW031ght",
        "colab": {
          "base_uri": "https://localhost:8080/"
        },
        "outputId": "9333d546-7d1b-493e-fcbc-1f5ff53bfa36"
      },
      "source": [
        "print(total_distance)"
      ],
      "execution_count": null,
      "outputs": [
        {
          "output_type": "stream",
          "name": "stdout",
          "text": [
            "1775.9194252674447\n"
          ]
        }
      ]
    },
    {
      "cell_type": "markdown",
      "metadata": {
        "id": "brQYAH4ww9cK"
      },
      "source": [
        "# APPENDIX: visualization of the route\n",
        "You can visualize the result by executing the following cell. "
      ]
    },
    {
      "cell_type": "code",
      "metadata": {
        "id": "ULIHO9W8Q3Mt",
        "colab": {
          "base_uri": "https://localhost:8080/",
          "height": 342
        },
        "outputId": "141aa8be-9822-4b80-d4c0-01052cd448c7"
      },
      "source": [
        "ordered_city_list, total_distance = tsp_from_ll(latitude_longitute_deg, list(latitude_longitude_pd.index))\n",
        "import matplotlib.pyplot as plt\n",
        "import seaborn as sns; sns.set()\n",
        "plt.plot(latitude_longitude_pd.loc[ordered_city_list + ['London'], 'longitude'], latitude_longitude_pd.loc[ordered_city_list + ['London'], 'latitude'], 'o-')\n",
        "plt.xlabel('longitude / deg')\n",
        "plt.ylabel('latitude / deg')\n",
        "plt.axes().set_aspect('equal')"
      ],
      "execution_count": null,
      "outputs": [
        {
          "output_type": "stream",
          "name": "stderr",
          "text": [
            "/usr/local/lib/python3.7/dist-packages/ipykernel_launcher.py:7: MatplotlibDeprecationWarning: Adding an axes using the same arguments as a previous axes currently reuses the earlier instance.  In a future version, a new instance will always be created and returned.  Meanwhile, this warning can be suppressed, and the future behavior ensured, by passing a unique label to each axes instance.\n",
            "  import sys\n"
          ]
        },
        {
          "output_type": "display_data",
          "data": {
            "image/png": "[encoded data removed]",
            "text/plain": [
              "<Figure size 432x288 with 1 Axes>"
            ]
          },
          "metadata": {}
        }
      ]
    },
    {
      "cell_type": "code",
      "metadata": {
        "id": "45K63g5LfRmc"
      },
      "source": [
        ""
      ],
      "execution_count": null,
      "outputs": []
    }
  ]
}